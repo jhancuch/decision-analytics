{
 "cells": [
  {
   "cell_type": "markdown",
   "id": "7a7864c8-9270-4f78-8430-9e31d17be3eb",
   "metadata": {},
   "source": [
    "Problem:\n",
    "\n",
    "Electro-Poly is a leading maker of slip-rings. A $750,000 order has just been received and must be filled.  Constraints in filling the order are based on hours for wiring each unit and hours for harnessing each unit. \n",
    "\n",
    "The company has 10,000 hours of wiring capacity and 5,000 hours of harnessing capacity. It must either make or buy the various models to meet the demand.  Formulate this LP and solve using R, Python, GAMS, Go, or Excel.  Provide your complete code and share with your colleagues.\n",
    "\n",
    "|    | Model 1 | Model 2 | Model 3 |\n",
    "|--- | ---     | ---     | ---     |\n",
    "| Ordered | 3000 | 2000 | 900 |\n",
    "| Hours for Wiring / Unit | 2 | 1.5 | 3 |\n",
    "| Hours of Harnessing / Unit | 1 | 2 | 1 |\n",
    "| Cost to Make | 50 | 83 | 130 |\n",
    "| Cost to Buy | 61 | 97 | 145 |"
   ]
  },
  {
   "cell_type": "markdown",
   "id": "bf43a6e7-e0c4-4944-84ab-8664663b2577",
   "metadata": {},
   "source": [
    "The goal is to minimize the total cost of producing or buying the products to fullfill the order"
   ]
  },
  {
   "cell_type": "code",
   "execution_count": 2,
   "id": "422aac1f-8986-4012-948b-63bc4032b6bd",
   "metadata": {},
   "outputs": [],
   "source": [
    "from pulp import LpVariable, LpProblem, LpStatus, value, LpMinimize"
   ]
  },
  {
   "cell_type": "code",
   "execution_count": 3,
   "id": "18476ad1-9a20-4b4f-a6d9-98e2b1271074",
   "metadata": {},
   "outputs": [],
   "source": [
    "# define variables\n",
    "M1M = LpVariable(\"M1M\", 0, 3000) # number of non-negative M1M's needed\n",
    "M2M = LpVariable(\"M2M\", 0, 2000) # number of non-negative M2M's needed\n",
    "M3M = LpVariable(\"M3M\", 0, 900) # number of non-negative M3M's needed\n",
    "M1B = LpVariable(\"M1B\", 0, 3000) # number of non-negative M1B's needed\n",
    "M2B = LpVariable(\"M2B\", 0, 2000) # number of non-negative M2B's needed\n",
    "M3B = LpVariable(\"M3B\", 0, 900) # number of non-negative M3B's needed"
   ]
  },
  {
   "cell_type": "code",
   "execution_count": 7,
   "id": "d45473b2-8f99-454a-8fb8-64fb96719e94",
   "metadata": {},
   "outputs": [],
   "source": [
    "# define the problem\n",
    "problem = LpProblem(\"problem\", LpMinimize)"
   ]
  },
  {
   "cell_type": "code",
   "execution_count": 8,
   "id": "2da6dbf4-a85c-445a-b505-050cbc1c3232",
   "metadata": {},
   "outputs": [],
   "source": [
    "# define the functional constraints\n",
    "problem += 50*M1M + 61*M1B + 83*M2M + 97*M2B + 130*M3M + 145*M3B <= 750000 # must be equal to or less than 750,000 to either break even or make a profit on the order\n",
    "problem += 1*M1M + 1*M1B == 3000 # Number of Model 1's bought\n",
    "problem += 1*M2M + 1*M2B == 2000 # Number of Model 2's bought\n",
    "problem += 1*M3M + 1*M3B == 900 # Number of Model 3's bought\n",
    "problem += 2*M1M + 1.5*M2M + 3*M3M <= 10000 # 10000h wiring capacity\n",
    "problem += 1*M1M + 2*M2M + 1*M3M <= 5000 # 5000 harnessing capacity "
   ]
  },
  {
   "cell_type": "code",
   "execution_count": 9,
   "id": "9b3abc68-c5c4-4cfa-857b-1dd610402a51",
   "metadata": {},
   "outputs": [],
   "source": [
    "# define the objective function\n",
    "problem += 50*M1M + 61*M1B + 83*M2M + 97*M2B + 130*M3M + 145*M3B"
   ]
  },
  {
   "cell_type": "code",
   "execution_count": 10,
   "id": "2d27f80c-3ed3-4659-916e-7523e0d573ba",
   "metadata": {},
   "outputs": [
    {
     "name": "stdout",
     "output_type": "stream",
     "text": [
      "Discussion Prompt\n",
      "status=Optimal\n"
     ]
    }
   ],
   "source": [
    "# solve\n",
    "status = problem.solve()\n",
    "print(f\"Discussion Prompt\")\n",
    "print(f\"status={LpStatus[status]}\")"
   ]
  },
  {
   "cell_type": "code",
   "execution_count": 11,
   "id": "94abf1bd-34bf-4a7f-8218-239bb212c245",
   "metadata": {},
   "outputs": [
    {
     "name": "stdout",
     "output_type": "stream",
     "text": [
      "M1B = 0.0\n",
      "M1M = 3000.0\n",
      "M2B = 1450.0\n",
      "M2M = 550.0\n",
      "M3B = 0.0\n",
      "M3M = 900.0\n",
      "Objective = 453300.0\n",
      "\n"
     ]
    }
   ],
   "source": [
    "# display results\n",
    "for variable in problem.variables():\n",
    "    print(f\"{variable.name} = {variable.varValue}\")\n",
    "    \n",
    "print(f\"Objective = {value(problem.objective)}\")\n",
    "print(f\"\")"
   ]
  },
  {
   "cell_type": "code",
   "execution_count": null,
   "id": "4eac5b36-8d6e-46cf-ac16-92c69031b9eb",
   "metadata": {},
   "outputs": [],
   "source": []
  }
 ],
 "metadata": {
  "kernelspec": {
   "display_name": "Python 3",
   "language": "python",
   "name": "python3"
  },
  "language_info": {
   "codemirror_mode": {
    "name": "ipython",
    "version": 3
   },
   "file_extension": ".py",
   "mimetype": "text/x-python",
   "name": "python",
   "nbconvert_exporter": "python",
   "pygments_lexer": "ipython3",
   "version": "3.9.5"
  }
 },
 "nbformat": 4,
 "nbformat_minor": 5
}
