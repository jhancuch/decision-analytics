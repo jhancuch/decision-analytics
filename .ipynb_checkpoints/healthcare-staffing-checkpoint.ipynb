{
 "cells": [
  {
   "cell_type": "markdown",
   "id": "289e6e64-1e84-4e3c-83f2-69ddf1c2e693",
   "metadata": {},
   "source": [
    "Problem:\n",
    "I am setting up a healthcare clinic and need to determine FTE staffing requirements for the providers. I can take fractional FTEs. I will be choosing from primary care physicians (MDs) who average USD 150K, nurse practitioners (NPs) who average USD 110K, and physician assistants (PAs) who average USD 100K. \n",
    "\n",
    "I need at least 10 providers to meet demand. \n",
    "I need at least 1.5 NP for each PA.\n",
    "Physicians can only supervise 2 non-physicians (NPs and PAs). \n",
    "\n",
    "Commentary: This is a minimization problem to generate the combination of MD's, NP's, and PA's that is associated with the lowest labor cost."
   ]
  },
  {
   "cell_type": "code",
   "execution_count": 2,
   "id": "11b18276-157a-4ec3-ba38-af7e59788dcf",
   "metadata": {},
   "outputs": [],
   "source": [
    "from pulp import LpVariable, LpProblem, LpStatus, value, LpMinimize"
   ]
  },
  {
   "cell_type": "code",
   "execution_count": 3,
   "id": "f4063648-957d-4c24-83c9-1dc41ddd461a",
   "metadata": {},
   "outputs": [],
   "source": [
    "# define variables\n",
    "MD = LpVariable(\"MD\", 0, None) # number of non-negative MD's needed\n",
    "NP = LpVariable(\"NP\", 0, None) # number of non-negative NP's needed\n",
    "PA = LpVariable(\"PA\", 0, None) # number of non-negative PA's needed"
   ]
  },
  {
   "cell_type": "code",
   "execution_count": 4,
   "id": "3ffa8bfb-349f-48b1-8b7b-f166dff4153e",
   "metadata": {},
   "outputs": [],
   "source": [
    "# define the problem\n",
    "problem = LpProblem(\"problem\", LpMinimize)"
   ]
  },
  {
   "cell_type": "code",
   "execution_count": 7,
   "id": "ef9b8edf-d96c-4089-a46e-0ef5b4aa2402",
   "metadata": {},
   "outputs": [],
   "source": [
    "# define the functional constraints\n",
    "problem += 1*MD + 1*NP + 1*PA >= 10\n",
    "problem += 1*NP >= 1.5*PA\n",
    "problem += 1*NP + 1*PA <= 2*MD"
   ]
  },
  {
   "cell_type": "code",
   "execution_count": 8,
   "id": "de66fd7d-c808-41ef-8122-1cc1b90d0823",
   "metadata": {},
   "outputs": [],
   "source": [
    "# define the objective function\n",
    "problem += 150*MD + 110*NP + 100*PA"
   ]
  },
  {
   "cell_type": "code",
   "execution_count": 9,
   "id": "d43d56d3-0334-40f9-8f13-eb4eae86e096",
   "metadata": {},
   "outputs": [
    {
     "name": "stdout",
     "output_type": "stream",
     "text": [
      "Discussion Prompt\n",
      "status=Optimal\n"
     ]
    }
   ],
   "source": [
    "# solve\n",
    "status = problem.solve()\n",
    "print(f\"Discussion Prompt\")\n",
    "print(f\"status={LpStatus[status]}\")"
   ]
  },
  {
   "cell_type": "code",
   "execution_count": 10,
   "id": "798e632e-5273-411f-bf60-7d63ee6bb72f",
   "metadata": {},
   "outputs": [
    {
     "name": "stdout",
     "output_type": "stream",
     "text": [
      "MD = 3.3333333\n",
      "NP = 4.0\n",
      "PA = 2.6666667\n",
      "Objective = 1206.666665\n",
      "\n"
     ]
    }
   ],
   "source": [
    "# display results\n",
    "for variable in problem.variables():\n",
    "    print(f\"{variable.name} = {variable.varValue}\")\n",
    "    \n",
    "print(f\"Objective = {value(problem.objective)}\")\n",
    "print(f\"\")"
   ]
  }
 ],
 "metadata": {
  "kernelspec": {
   "display_name": "Python 3",
   "language": "python",
   "name": "python3"
  },
  "language_info": {
   "codemirror_mode": {
    "name": "ipython",
    "version": 3
   },
   "file_extension": ".py",
   "mimetype": "text/x-python",
   "name": "python",
   "nbconvert_exporter": "python",
   "pygments_lexer": "ipython3",
   "version": "3.9.5"
  }
 },
 "nbformat": 4,
 "nbformat_minor": 5
}
