{
 "cells": [
  {
   "cell_type": "code",
   "execution_count": 1,
   "id": "e36bf7b9-80ee-41a8-b6dd-aca501fb6df8",
   "metadata": {},
   "outputs": [],
   "source": [
    "import random"
   ]
  },
  {
   "cell_type": "code",
   "execution_count": 2,
   "id": "7f2a04b1-9dcb-4768-a6c3-318f426d5eba",
   "metadata": {},
   "outputs": [],
   "source": [
    "random.seed(123)"
   ]
  },
  {
   "cell_type": "code",
   "execution_count": 31,
   "id": "3006247b-16c4-4bb8-85a9-0a39375fc872",
   "metadata": {},
   "outputs": [],
   "source": [
    "def roulette(betting_num):\n",
    "    landing_num = random.randint(1,36)\n",
    "    \n",
    "    if betting_num == landing_num:\n",
    "        return True\n",
    "    else:\n",
    "        return False  "
   ]
  },
  {
   "cell_type": "code",
   "execution_count": 41,
   "id": "1cc435eb-2c4b-4991-9b08-2ae8b18373ec",
   "metadata": {},
   "outputs": [],
   "source": [
    "def play(betting_num, total_plays):\n",
    "    \n",
    "    wins = 0\n",
    "    play = 1\n",
    "    \n",
    "    while play <= total_plays:\n",
    "        #If we win\n",
    "        if roulette(betting_num):\n",
    "            # Record the win\n",
    "            wins += 1    \n",
    "        play += 1\n",
    "    \n",
    "    print(f'Simulated winning percentage of betting on {betting_num} = {str(round(100*(wins/total_plays), 3))}% compared to the expected winning percentage of {round(100*(1/36), 3)}%')"
   ]
  },
  {
   "cell_type": "code",
   "execution_count": 42,
   "id": "21ec2278-dc56-4343-b728-d76b6a084d02",
   "metadata": {},
   "outputs": [
    {
     "name": "stdout",
     "output_type": "stream",
     "text": [
      "Simulated winning percentage of betting on 2 = 2.1% compared to the expected winning percentage of 2.778%\n"
     ]
    }
   ],
   "source": [
    "play(2, 1000)"
   ]
  },
  {
   "cell_type": "code",
   "execution_count": 43,
   "id": "cf521375-3fb2-44c7-8cc6-dcc7526af1e5",
   "metadata": {},
   "outputs": [
    {
     "name": "stdout",
     "output_type": "stream",
     "text": [
      "Simulated winning percentage of betting on 2 = 3.07% compared to the expected winning percentage of 2.778%\n"
     ]
    }
   ],
   "source": [
    "play(2, 10000)"
   ]
  },
  {
   "cell_type": "code",
   "execution_count": 44,
   "id": "a4ec2703-d074-491e-8c07-340d29e9a960",
   "metadata": {},
   "outputs": [
    {
     "name": "stdout",
     "output_type": "stream",
     "text": [
      "Simulated winning percentage of betting on 2 = 2.781% compared to the expected winning percentage of 2.778%\n"
     ]
    }
   ],
   "source": [
    "play(2, 100000)"
   ]
  },
  {
   "cell_type": "code",
   "execution_count": 45,
   "id": "b226c03d-60ca-4201-aa95-21b45ca29b6f",
   "metadata": {},
   "outputs": [
    {
     "name": "stdout",
     "output_type": "stream",
     "text": [
      "Simulated winning percentage of betting on 2 = 2.778% compared to the expected winning percentage of 2.778%\n"
     ]
    }
   ],
   "source": [
    "play(2, 100000000)"
   ]
  }
 ],
 "metadata": {
  "kernelspec": {
   "display_name": "Python 3",
   "language": "python",
   "name": "python3"
  },
  "language_info": {
   "codemirror_mode": {
    "name": "ipython",
    "version": 3
   },
   "file_extension": ".py",
   "mimetype": "text/x-python",
   "name": "python",
   "nbconvert_exporter": "python",
   "pygments_lexer": "ipython3",
   "version": "3.9.5"
  }
 },
 "nbformat": 4,
 "nbformat_minor": 5
}
