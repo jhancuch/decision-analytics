{
 "cells": [
  {
   "cell_type": "code",
   "execution_count": null,
   "id": "e36bf7b9-80ee-41a8-b6dd-aca501fb6df8",
   "metadata": {},
   "outputs": [],
   "source": [
    "import random"
   ]
  },
  {
   "cell_type": "code",
   "execution_count": null,
   "id": "7f2a04b1-9dcb-4768-a6c3-318f426d5eba",
   "metadata": {},
   "outputs": [],
   "source": [
    "random.seed(0)"
   ]
  },
  {
   "cell_type": "code",
   "execution_count": null,
   "id": "174763b3-6d1e-4a0b-b165-3a5e724a772d",
   "metadata": {},
   "outputs": [],
   "source": [
    "class FairRoulette():\n",
    "    def __init__(self):\n",
    "        self.pockets = []\n",
    "        for i in range(1,37):\n",
    "            self.pockets.append(i)\n",
    "            self.ball = None\n",
    "            self.pocketOdds = len(self.pockets) - 1\n",
    "    def spin(self):\n",
    "        self.ball = random.choice(self.pockets)\n",
    "    def betPocket(self, pocket, amt):\n",
    "        if str(pocket) == str(self.ball):\n",
    "            return amt*self.pocketOdds\n",
    "        else: return -amt\n",
    "    def __str__(self):\n",
    "        return 'Fair Roulette'"
   ]
  },
  {
   "cell_type": "code",
   "execution_count": null,
   "id": "64d83401-b9f2-4d53-aa01-77ebc9e34b09",
   "metadata": {},
   "outputs": [],
   "source": [
    "def playRoulette(game, numSpins, pocket, bet, toPrint):\n",
    "    totalPocket = 0\n",
    "    for i in range(numSpins):\n",
    "        game.spin()\n",
    "        totalPocket += game.betPocket(pocket, bet)\n",
    "    if toPrint:\n",
    "        print(f'{numSpins} spins of {game}')\n",
    "        print(f'Expected return betting {pocket} = {str(100*totalPocket/numSpins)}% \\n')\n",
    "    return (totalPocket/numSpins)"
   ]
  },
  {
   "cell_type": "code",
   "execution_count": null,
   "id": "9522db9a-8222-4ea4-a284-0c89d0e42c56",
   "metadata": {},
   "outputs": [],
   "source": [
    "game = FairRoulette()\n",
    "for numSpins in (100, 1000000):\n",
    "    for i in range(3):\n",
    "        playRoulette(game, numSpins, 2, 1, True)"
   ]
  }
 ],
 "metadata": {
  "kernelspec": {
   "display_name": "Python 3",
   "language": "python",
   "name": "python3"
  },
  "language_info": {
   "codemirror_mode": {
    "name": "ipython",
    "version": 3
   },
   "file_extension": ".py",
   "mimetype": "text/x-python",
   "name": "python",
   "nbconvert_exporter": "python",
   "pygments_lexer": "ipython3",
   "version": "3.9.5"
  }
 },
 "nbformat": 4,
 "nbformat_minor": 5
}
