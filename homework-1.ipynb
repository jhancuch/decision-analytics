{
 "cells": [
  {
   "cell_type": "code",
   "execution_count": 62,
   "id": "458a31d6-3b0c-49be-8362-6f4536a4b47c",
   "metadata": {},
   "outputs": [],
   "source": [
    "from pulp import LpVariable, LpProblem, LpStatus, value, LpMinimize, LpMaximize"
   ]
  },
  {
   "cell_type": "markdown",
   "id": "42aadc4f-07d3-420e-973b-3450a4644bf8",
   "metadata": {},
   "source": [
    "## Question 1"
   ]
  },
  {
   "cell_type": "markdown",
   "id": "abc64e08-912a-4beb-a0ab-0af68e3b4b6e",
   "metadata": {},
   "source": [
    "SteelCo manufactures three types of steel at two different steel mills. During a given month, Mill 1 has 200 hours of blast furnace time available, whereas Mill 2 has 300 hours. Because of differences in the furnaces at each mill, the time and cost to produce a ton of steel differs for each mill and are shown in the following table. Each month, SteelCo must manufacture a total of at least 400 tons of Steel 1, 500 tons of Steel 2, and 300 tons of Steel 3 to meet demand; however, the total amount of Steel 2 manufactured should not exceed the combined amount of Steel 1 and Steel 3. Also, in order to maintain a roughly uniform usage of the two mills, management’s policy is that the percentage of available blast furnace capacity (time) used at each mill should be the same. Clearly formulate a linear program (LP) to minimize the cost of manufacturing the desired steel"
   ]
  },
  {
   "cell_type": "code",
   "execution_count": 14,
   "id": "5eeb9f89-a6ba-4a8c-b298-284cbb2e9fa0",
   "metadata": {},
   "outputs": [],
   "source": [
    "# define variables\n",
    "M1S1 = LpVariable(\"M1S1\", 0, None) # number of non-negative M1S1's needed\n",
    "M1S2 = LpVariable(\"M1S2\", 0, None) # number of non-negative M1S2's needed\n",
    "M1S3 = LpVariable(\"M1S3\", 0, None) # number of non-negative M1S3's needed\n",
    "M2S1 = LpVariable(\"M2S1\", 0, None) # number of non-negative M2S1's needed\n",
    "M2S2 = LpVariable(\"M2S2\", 0, None) # number of non-negative M2S2's needed\n",
    "M2S3 = LpVariable(\"M2S3\", 0, None) # number of non-negative M2S3's needed"
   ]
  },
  {
   "cell_type": "code",
   "execution_count": 15,
   "id": "f41aa9dc-002f-4c15-9c3f-e9683257766d",
   "metadata": {},
   "outputs": [],
   "source": [
    "# define the problem\n",
    "problem = LpProblem(\"problem\", LpMinimize)"
   ]
  },
  {
   "cell_type": "code",
   "execution_count": 24,
   "id": "8b7e1333-60b0-4b2f-bede-ca86c356e7e5",
   "metadata": {},
   "outputs": [],
   "source": [
    "# define the functional constraints\n",
    "problem += 20*M1S1 + 22*M1S2 + 28*M1S3 <= 12000 # must be equal to or less than 200 hours or 12000 minutes\n",
    "problem += 24*M2S1 + 18*M2S2 + 30*M2S3 <= 18000 # must be equal to or less than 300 hours or 18000 minutes\n",
    "\n",
    "problem += 1*M1S1 + 1*M1S1 >= 400 # must manufacture at least 400 tons of S1\n",
    "problem += 1*M1S2 + 1*M2S2 >= 500 # must manufacture at least 500 tons of S2\n",
    "problem += 1*M1S3 + 1*M2S3 >= 300 # must manufacture at least 300 tons of S3\n",
    "\n",
    "problem += 1*M1S2 + 1*M2S2 + 1*M1S3 + 1*M2S3 - 1*M1S2 - 1*M2S2 >= 0 # S2 should not exceed the combined amount of S1 and S3\n",
    "\n",
    "problem += (20*M1S1 + 22*M1S2 + 28*M1S3)/12000 - (24*M2S1 + 18*M2S2 + 30*M2S3)/18000 == 0 # percentage of available blast furnace capacity (time) used at each mill should be the same."
   ]
  },
  {
   "cell_type": "code",
   "execution_count": 17,
   "id": "43f49820-0e56-4ed8-a2ab-d4cdb8e3bbfb",
   "metadata": {},
   "outputs": [],
   "source": [
    "# define the objective function\n",
    "problem += 10*M1S1 + 11*M1S2 + 14*M1S3 + 12*M2S1 + 9*M2S2 + 10*M2S3"
   ]
  },
  {
   "cell_type": "code",
   "execution_count": 25,
   "id": "c1bced44-4a40-42fa-8308-bc1d5880fddd",
   "metadata": {},
   "outputs": [
    {
     "name": "stdout",
     "output_type": "stream",
     "text": [
      "status=Optimal\n"
     ]
    }
   ],
   "source": [
    "# solve\n",
    "status = problem.solve()\n",
    "print(f\"status={LpStatus[status]}\")"
   ]
  },
  {
   "cell_type": "code",
   "execution_count": 26,
   "id": "addba305-a451-466a-9e16-d488f077146c",
   "metadata": {},
   "outputs": [
    {
     "name": "stdout",
     "output_type": "stream",
     "text": [
      "M1S1 = 200.0\n",
      "M1S2 = 235.29412\n",
      "M1S3 = 0.0\n",
      "M2S1 = 0.0\n",
      "M2S2 = 264.70588\n",
      "M2S3 = 300.0\n",
      "Objective = 9970.58824\n",
      "\n"
     ]
    }
   ],
   "source": [
    "# display results\n",
    "for variable in problem.variables():\n",
    "    print(f\"{variable.name} = {variable.varValue}\")\n",
    "    \n",
    "print(f\"Objective = {value(problem.objective)}\")\n",
    "print(f\"\")"
   ]
  },
  {
   "cell_type": "markdown",
   "id": "26d0e425-78c2-4ca6-ad51-4ccbb4ebad75",
   "metadata": {},
   "source": [
    "## Question 3"
   ]
  },
  {
   "cell_type": "markdown",
   "id": "462c9073-7fee-4997-97df-8533e836f786",
   "metadata": {},
   "source": [
    "At the beginning of month 1, Finco has $400 in cash. At the beginning of months 1, 2, 3, and 4, Finco receives certain revenues, after which it pays bills (see Table 2 below). Any money left over may be invested for one month at the interest rate of 0.1% per month; for two months at 0.5% per month; for three months at 1% per month; or for four months at 2% per month. Use linear programming to determine an investment strategy that maximizes cash on hand at the beginning of month 5. Formulate an LP to maximize Finco’s profit."
   ]
  },
  {
   "cell_type": "code",
   "execution_count": 78,
   "id": "d8a6777a-8250-4db4-9312-409348d3c5f8",
   "metadata": {},
   "outputs": [],
   "source": [
    "# define variables - Xi,j format where i is the amount invested at the beginging month i and matures at the end of month j\n",
    "X11 = LpVariable(\"X11\", 0, None) \n",
    "X12 = LpVariable(\"X12\", 0, None) \n",
    "X13 = LpVariable(\"X13\", 0, None) \n",
    "X14 = LpVariable(\"X14\", 0, None) \n",
    "X22 = LpVariable(\"X22\", 0, None) \n",
    "X23 = LpVariable(\"X23\", 0, None) \n",
    "X24 = LpVariable(\"X24\", 0, None) \n",
    "X33 = LpVariable(\"X33\", 0, None) \n",
    "X34 = LpVariable(\"X34\", 0, None)\n",
    "X44 = LpVariable(\"X44\", 0, None)"
   ]
  },
  {
   "cell_type": "code",
   "execution_count": 79,
   "id": "b7c49255-2a78-4ade-9d31-06a39027f906",
   "metadata": {},
   "outputs": [],
   "source": [
    "# define the problem\n",
    "problem = LpProblem(\"problem\", LpMaximize)"
   ]
  },
  {
   "cell_type": "code",
   "execution_count": 80,
   "id": "658176ca-c53b-4dcd-b1ff-b7ba971b0cbc",
   "metadata": {},
   "outputs": [],
   "source": [
    "# define the functional constraints\n",
    "\n",
    "problem += X11 + X12 + X13 + X14 + 600 == 400 + 400\n",
    "problem += X22 + X23 + X24 + 500 == 800 + 1.001*X11\n",
    "problem += X33 + X34 + 500 == 1.01*X12 + 1.001*X22 + 300\n",
    "problem += X44 + 250 == 1.03*X13 + 1.01*X23 + 1.001*X33 + 300"
   ]
  },
  {
   "cell_type": "code",
   "execution_count": 81,
   "id": "0e0271f4-541b-4728-be7a-1817449cbcca",
   "metadata": {},
   "outputs": [],
   "source": [
    "# define the objective function\n",
    "problem += 1.08*X14 + 1.03*X24 + 1.01*X34 + 1.001*X44"
   ]
  },
  {
   "cell_type": "code",
   "execution_count": 82,
   "id": "448c8eb5-8b18-4e62-a61e-5873552e0b82",
   "metadata": {},
   "outputs": [
    {
     "name": "stdout",
     "output_type": "stream",
     "text": [
      "status=Optimal\n"
     ]
    }
   ],
   "source": [
    "# solve\n",
    "status = problem.solve()\n",
    "print(f\"status={LpStatus[status]}\")"
   ]
  },
  {
   "cell_type": "code",
   "execution_count": 83,
   "id": "cbe55064-8053-4b89-8b07-814338a2a90e",
   "metadata": {},
   "outputs": [
    {
     "name": "stdout",
     "output_type": "stream",
     "text": [
      "X11 = 0.0\n",
      "X12 = 0.0\n",
      "X13 = 0.0\n",
      "X14 = 200.0\n",
      "X22 = 199.8002\n",
      "X23 = 0.0\n",
      "X24 = 100.1998\n",
      "X33 = 0.0\n",
      "X34 = 0.0\n",
      "X44 = 50.0\n",
      "Objective = 369.255794\n",
      "\n"
     ]
    }
   ],
   "source": [
    "# display results\n",
    "for variable in problem.variables():\n",
    "    print(f\"{variable.name} = {variable.varValue}\")\n",
    "    \n",
    "print(f\"Objective = {value(problem.objective)}\")\n",
    "print(f\"\")"
   ]
  },
  {
   "cell_type": "markdown",
   "id": "3f87774b-66ef-448a-ba30-a2ebc093c4ba",
   "metadata": {},
   "source": [
    "## Question 4"
   ]
  },
  {
   "cell_type": "markdown",
   "id": "5f58a706-5bb7-43cb-b432-d0ed99957a83",
   "metadata": {},
   "source": [
    "Turkeyco produces two types of turkey cutlets for sale to fast-food restaurants. Each type of cutlet consists of white meat and dark meat. Cutlet 1 sells for \\\\$4/lb and must consist of at least 70\\% white meat. Cutlet 2 sells for $3/lb and must consist of at least 60% white meat. At most, 50 lb of cutlet 1 and 30 lb of cutlet 2 can be sold. The two types of turkey used to manufacture the cutlets are purchased from the GobbleGobble Turkey Farm. Each type 1 turkey costs \\\\$10 and yields 5 lb of white meat and 2 lb of dark meat. Each type 2 turkey costs \\\\$8 and yields 3 lb of white meat and 3 lb of dark meat. "
   ]
  },
  {
   "cell_type": "code",
   "execution_count": 69,
   "id": "e4825a38-0e13-4900-bda5-e0cea5f0f838",
   "metadata": {},
   "outputs": [],
   "source": [
    "# define variables\n",
    "C1W = LpVariable(\"C1W\", 0, None) # number of non-negative lb C1W's needed\n",
    "C1D = LpVariable(\"C1D\", 0, None) # number of non-negative lb C1D's needed\n",
    "C2W = LpVariable(\"C2W\", 0, None) # number of non-negative lb C2W's needed\n",
    "C2D = LpVariable(\"C2D\", 0, None) # number of non-negative lb C2D's needed\n",
    "T1 = LpVariable(\"T1\", 0, None) # number of non-negative number of T1's needed\n",
    "T2 = LpVariable(\"T2\", 0, None) # number of non-negative number of T2's needed"
   ]
  },
  {
   "cell_type": "code",
   "execution_count": 70,
   "id": "d7ef29a1-dd5d-4697-ae11-a46a6eb7f2ff",
   "metadata": {},
   "outputs": [],
   "source": [
    "# define the problem\n",
    "problem = LpProblem(\"problem\", LpMaximize)"
   ]
  },
  {
   "cell_type": "code",
   "execution_count": 71,
   "id": "88964532-d1ce-4071-a039-0dd8a1bcb4da",
   "metadata": {},
   "outputs": [],
   "source": [
    "# define the functional constraints\n",
    "problem += C1W + C1D <= 50\n",
    "problem += C2W + C2D <= 30\n",
    "\n",
    "problem += C1W + C2W <= 5*T1 + 3*T2\n",
    "problem += C1D + C2D <= 2*T1 + 3*T2\n",
    "\n",
    "problem += .7*(C1W + C1D) <= C1W\n",
    "problem += .6*(C2W + C2D) <= C2W"
   ]
  },
  {
   "cell_type": "code",
   "execution_count": 72,
   "id": "aad16045-b5c9-4572-b19b-9781507988aa",
   "metadata": {},
   "outputs": [],
   "source": [
    "# define the objective function\n",
    "problem += 4*(C1W + C1D) + 3*(C2W + C2D) - (10*T1 + 8*T2)"
   ]
  },
  {
   "cell_type": "code",
   "execution_count": 73,
   "id": "3826a66b-ed64-427a-afc5-62025b935eba",
   "metadata": {},
   "outputs": [
    {
     "name": "stdout",
     "output_type": "stream",
     "text": [
      "status=Optimal\n"
     ]
    }
   ],
   "source": [
    "# solve\n",
    "status = problem.solve()\n",
    "print(f\"status={LpStatus[status]}\")"
   ]
  },
  {
   "cell_type": "code",
   "execution_count": 74,
   "id": "77732f06-ea24-4dfe-8016-be5607c0ad7e",
   "metadata": {},
   "outputs": [
    {
     "name": "stdout",
     "output_type": "stream",
     "text": [
      "C1D = 15.0\n",
      "C1W = 35.0\n",
      "C2D = 12.0\n",
      "C2W = 18.0\n",
      "T1 = 8.6666667\n",
      "T2 = 3.2222222\n",
      "Objective = 177.55555539999997\n",
      "\n"
     ]
    }
   ],
   "source": [
    "# display results\n",
    "for variable in problem.variables():\n",
    "    print(f\"{variable.name} = {variable.varValue}\")\n",
    "    \n",
    "print(f\"Objective = {value(problem.objective)}\")\n",
    "print(f\"\")"
   ]
  },
  {
   "cell_type": "markdown",
   "id": "c303d61f-9848-494e-afc3-c9a41ea5b980",
   "metadata": {},
   "source": [
    "## Question 5"
   ]
  },
  {
   "cell_type": "markdown",
   "id": "470239a6-59fb-42f7-89ad-dd0ca82324d7",
   "metadata": {},
   "source": [
    "A company wants to plan production for the ensuing year to minimize the combined cost of production and inventory costs. In each quarter of the year, demand is anticipated to be 130, 160, 250, and 150 units, respectively. The plant can produce a maximum of 200 units each quarter. The product can be manufactured at a cost of \\\\$15 per unit during the first quarter, however the manufacturing cost is expected to rise by \\\\$1 per quarter. Excess production can be stored from one quarter to the next at a cost of \\\\$1.50 per unit, but the storage facility can hold a maximum of 60 units. How should the production be scheduled so as to minimize the total costs?"
   ]
  },
  {
   "cell_type": "code",
   "execution_count": 52,
   "id": "14f529fd-644c-491b-abe5-df59a937c413",
   "metadata": {},
   "outputs": [],
   "source": [
    "# define variables\n",
    "Q1 = LpVariable(\"Q1\", 0, None) # number of non-negative Units manufactured in Q1\n",
    "Q2 = LpVariable(\"Q2\", 0, None) # number of non-negative Units manufactured in Q2\n",
    "Q3 = LpVariable(\"Q3\", 0, None) # number of non-negative Units manufactured in Q3\n",
    "Q4 = LpVariable(\"Q4\", 0, None) # number of non-negative Units manufactured in Q4\n",
    "\n",
    "S1 = LpVariable(\"S1\", 0, 60) # number of non-negative Units stored after Q1\n",
    "S2 = LpVariable(\"S2\", 0, 60) # number of non-negative Units stored after Q2\n",
    "S3 = LpVariable(\"S3\", 0, 60) # number of non-negative Units stored after Q3"
   ]
  },
  {
   "cell_type": "code",
   "execution_count": 53,
   "id": "dc017c88-a64c-48b1-9942-51437a022419",
   "metadata": {},
   "outputs": [],
   "source": [
    "# define the problem\n",
    "problem = LpProblem(\"problem\", LpMinimize)"
   ]
  },
  {
   "cell_type": "code",
   "execution_count": 54,
   "id": "a7262c89-922a-4a86-b4f2-fd4ca7940973",
   "metadata": {},
   "outputs": [],
   "source": [
    "# define the functional constraints\n",
    "\n",
    "# Demand\n",
    "problem += Q1 >= 130\n",
    "problem += Q1 - 130 == S1\n",
    "\n",
    "problem += S1 + Q2 >= 160\n",
    "problem += S1 + Q2 - 160 == S2\n",
    "\n",
    "problem += S2 + Q3 >= 250\n",
    "problem += S2 + Q3 - 250 == S3\n",
    "\n",
    "problem += S3 + Q4 >= 150"
   ]
  },
  {
   "cell_type": "code",
   "execution_count": 55,
   "id": "cfb347a9-24d9-412b-9897-9d343e88a74f",
   "metadata": {},
   "outputs": [],
   "source": [
    "# define the objective function\n",
    "problem += 15*Q1 + 16*Q2 + 17*Q3 + 18*Q4 + 1.5*S1 + 1.5*S2 + 1.5*S3"
   ]
  },
  {
   "cell_type": "code",
   "execution_count": 56,
   "id": "9b39a9d4-4fa6-4586-accb-417a9648ff49",
   "metadata": {},
   "outputs": [
    {
     "name": "stdout",
     "output_type": "stream",
     "text": [
      "status=Optimal\n"
     ]
    }
   ],
   "source": [
    "# solve\n",
    "status = problem.solve()\n",
    "print(f\"status={LpStatus[status]}\")"
   ]
  },
  {
   "cell_type": "code",
   "execution_count": 57,
   "id": "cc2449d3-0363-4ac7-9055-1ed4d93bbc45",
   "metadata": {},
   "outputs": [
    {
     "name": "stdout",
     "output_type": "stream",
     "text": [
      "Q1 = 130.0\n",
      "Q2 = 160.0\n",
      "Q3 = 250.0\n",
      "Q4 = 150.0\n",
      "S1 = 0.0\n",
      "S2 = 0.0\n",
      "S3 = 0.0\n",
      "Objective = 11460.0\n",
      "\n"
     ]
    }
   ],
   "source": [
    "# display results\n",
    "for variable in problem.variables():\n",
    "    print(f\"{variable.name} = {variable.varValue}\")\n",
    "    \n",
    "print(f\"Objective = {value(problem.objective)}\")\n",
    "print(f\"\")"
   ]
  },
  {
   "cell_type": "code",
   "execution_count": null,
   "id": "735d370d-0f59-440b-a335-10ba77f91cce",
   "metadata": {},
   "outputs": [],
   "source": []
  }
 ],
 "metadata": {
  "kernelspec": {
   "display_name": "Python 3",
   "language": "python",
   "name": "python3"
  },
  "language_info": {
   "codemirror_mode": {
    "name": "ipython",
    "version": 3
   },
   "file_extension": ".py",
   "mimetype": "text/x-python",
   "name": "python",
   "nbconvert_exporter": "python",
   "pygments_lexer": "ipython3",
   "version": "3.9.5"
  }
 },
 "nbformat": 4,
 "nbformat_minor": 5
}
