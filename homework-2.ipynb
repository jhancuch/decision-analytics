{
 "cells": [
  {
   "cell_type": "code",
   "execution_count": 1,
   "id": "9973ffd8-10dc-4e83-abd5-b7ab2eefce4f",
   "metadata": {},
   "outputs": [],
   "source": [
    "from pulp import LpVariable, LpProblem, LpMaximize, LpStatus, value, LpMinimize, GLPK\n",
    "import pandas as pd"
   ]
  },
  {
   "cell_type": "markdown",
   "id": "730d9f47-933c-4f09-ad1c-e8db7de85e29",
   "metadata": {},
   "source": [
    "## Question 1(b)(i)"
   ]
  },
  {
   "cell_type": "code",
   "execution_count": 6,
   "id": "fc4d4614-6541-4c6f-8974-62d5a694bdac",
   "metadata": {},
   "outputs": [],
   "source": [
    "# define variables\n",
    "x1 = LpVariable(\"x1\", 0, None)\n",
    "x2 = LpVariable(\"x2\", 0, None)\n",
    "x3 = LpVariable(\"x3\", 0, None)"
   ]
  },
  {
   "cell_type": "code",
   "execution_count": 7,
   "id": "955edf5e-f784-4b08-9d46-70d2862f3a19",
   "metadata": {},
   "outputs": [],
   "source": [
    "# defines the problem\n",
    "prob = LpProblem(\"problem\", LpMaximize)"
   ]
  },
  {
   "cell_type": "code",
   "execution_count": 8,
   "id": "82e4e8dc-fa2b-4274-87c8-1d492664bb17",
   "metadata": {},
   "outputs": [],
   "source": [
    "# define constraints\n",
    "prob += 8*x1 + 6*x2 + x3 <= 50\n",
    "prob += 4*x1 + 2*x2 + 3*x3 <= 20\n",
    "prob += 2*x1 + x2 + 2*x3 <= 25"
   ]
  },
  {
   "cell_type": "code",
   "execution_count": 9,
   "id": "a1d4b607-1901-4170-890e-af20113c1b03",
   "metadata": {},
   "outputs": [],
   "source": [
    "# define objective function\n",
    "prob += 25*x1 + 30*x2 + 20*x3"
   ]
  },
  {
   "cell_type": "code",
   "execution_count": 10,
   "id": "e7c4821e-feae-4043-8200-33152a50a13d",
   "metadata": {},
   "outputs": [
    {
     "name": "stdout",
     "output_type": "stream",
     "text": [
      "Status: Optimal\n"
     ]
    }
   ],
   "source": [
    "# solve the problem\n",
    "prob.writeLP(\"hw2-q1bi.lp\")\n",
    "prob.solve(GLPK(options=['--ranges', 'hw2-q1bi.sen']))\n",
    "print (\"Status:\", LpStatus[prob.status])"
   ]
  },
  {
   "cell_type": "code",
   "execution_count": 11,
   "id": "1e899a87-37be-4f7f-b3b3-8d74f8e06f3f",
   "metadata": {},
   "outputs": [
    {
     "name": "stdout",
     "output_type": "stream",
     "text": [
      "x1 = 0.0\n",
      "x2 = 8.125\n",
      "x3 = 1.25\n",
      "Objective 268.75\n",
      "\n"
     ]
    }
   ],
   "source": [
    "# Sensitivity analysis\n",
    "for v in prob.variables():\n",
    "    print(v.name, \"=\", v.varValue)\n",
    "\n",
    "print (\"Objective\", value(prob.objective))\n",
    "print (\"\")"
   ]
  },
  {
   "cell_type": "markdown",
   "id": "b5a8b841-8d27-4bb5-99e4-075e149203a4",
   "metadata": {},
   "source": [
    "## Question 2, Part B"
   ]
  },
  {
   "cell_type": "code",
   "execution_count": 58,
   "id": "dc95302c-8dba-43b6-a878-1fdadcf4370c",
   "metadata": {},
   "outputs": [],
   "source": [
    "# define variables\n",
    "car = LpVariable(\"car\", 0, None)\n",
    "truck = LpVariable(\"truck\", 0, None)"
   ]
  },
  {
   "cell_type": "code",
   "execution_count": 59,
   "id": "851f1494-e76a-4db3-a51d-006998a76caa",
   "metadata": {},
   "outputs": [],
   "source": [
    "# defines the problem\n",
    "prob = LpProblem(\"problem\", LpMaximize)"
   ]
  },
  {
   "cell_type": "code",
   "execution_count": 60,
   "id": "a78d50c6-e391-4fa8-9d32-62bc441a13dc",
   "metadata": {},
   "outputs": [],
   "source": [
    "# define constraints\n",
    "prob += car >= 88\n",
    "prob += truck >= 26\n",
    "prob += .8*car + 1*truck <= 98\n",
    "prob += .6*car + .7*truck <= 73\n",
    "prob += 2*car + 3*truck <= 260"
   ]
  },
  {
   "cell_type": "code",
   "execution_count": 61,
   "id": "ebfb58aa-3d54-427c-a27a-dbd04300ef3b",
   "metadata": {},
   "outputs": [],
   "source": [
    "# define objective function\n",
    "prob += 300*car + 400*truck - ((.8*car + 1*truck)*50)"
   ]
  },
  {
   "cell_type": "code",
   "execution_count": 62,
   "id": "d1959d98-0dd0-4564-b2b8-5d700ec160b6",
   "metadata": {},
   "outputs": [
    {
     "name": "stdout",
     "output_type": "stream",
     "text": [
      "Status: Optimal\n"
     ]
    }
   ],
   "source": [
    "# solve the problem\n",
    "prob.writeLP(\"hw2-q2b.lp\")\n",
    "prob.solve(GLPK(options=['--ranges', 'hw2-q2b.sen']))\n",
    "print (\"Status:\", LpStatus[prob.status])"
   ]
  },
  {
   "cell_type": "code",
   "execution_count": 63,
   "id": "3d2dae28-8cde-4db7-9bfe-d641a15a9a8e",
   "metadata": {},
   "outputs": [
    {
     "name": "stdout",
     "output_type": "stream",
     "text": [
      "car = 88.0\n",
      "truck = 27.6\n",
      "Objective 32540.0\n",
      "\n"
     ]
    }
   ],
   "source": [
    "# Sensitivity analysis\n",
    "for v in prob.variables():\n",
    "    print(v.name, \"=\", v.varValue)\n",
    "\n",
    "print (\"Objective\", value(prob.objective))\n",
    "print (\"\")"
   ]
  }
 ],
 "metadata": {
  "kernelspec": {
   "display_name": "Python 3",
   "language": "python",
   "name": "python3"
  },
  "language_info": {
   "codemirror_mode": {
    "name": "ipython",
    "version": 3
   },
   "file_extension": ".py",
   "mimetype": "text/x-python",
   "name": "python",
   "nbconvert_exporter": "python",
   "pygments_lexer": "ipython3",
   "version": "3.9.5"
  }
 },
 "nbformat": 4,
 "nbformat_minor": 5
}
