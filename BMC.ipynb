{
 "cells": [
  {
   "cell_type": "markdown",
   "id": "da9e4702-56b5-499f-8a1a-b2ea4ada987b",
   "metadata": {},
   "source": [
    "The Bavarian Motor Company (BMC) manufactures expensive luxury cars in Hamburg, Germany, and exports cars to sell in the United States. The exported cars are shipped from Hamburg to ports in Newark, New Jersey and Jacksonville, Florida. From these ports, the cars are transported by rail or truck to distributors located in Boston, Massachusetts; Columbus, Ohio; Atlanta, Georgia; Richmond, Virginia; and Mobile, Alabama. The below figure shows the possible shipping routes available to the company along with the transportation cost for shipping each car along the indicated path. Currently, 200 cars are available at the port in Newark and 300 are available in Jacksonville. The numbers of cars needed by the distributors in Boston, Columbus, Atlanta, Richmond, and Mobile are 100, 60, 170, 80, and 70, respectively. BMC wants to determine the least costly way of transporting cars from the ports in Newark and Jacksonville to the cities where they are needed.  Formulate the LP and solve it using software of your choice. Conduct sensitivity analysis and interpret.  Provide the duals and demonstrate strong duality (i.e., complementary slackness)."
   ]
  },
  {
   "cell_type": "code",
   "execution_count": 21,
   "id": "7308eb79-9f9a-4adf-8225-88a6836f4d1d",
   "metadata": {},
   "outputs": [],
   "source": [
    "from pulp import LpVariable, LpProblem, LpMaximize, LpStatus, value, LpMinimize, GLPK\n",
    "from pulp import pulpTestAll, listSolvers"
   ]
  },
  {
   "cell_type": "code",
   "execution_count": 22,
   "id": "bd60204b-3273-4e67-858a-7261e756f779",
   "metadata": {},
   "outputs": [
    {
     "name": "stdout",
     "output_type": "stream",
     "text": [
      "['GLPK_CMD', 'PYGLPK', 'CPLEX_CMD', 'CPLEX_PY', 'GUROBI', 'GUROBI_CMD', 'MOSEK', 'XPRESS', 'PULP_CBC_CMD', 'COIN_CMD', 'COINMP_DLL', 'CHOCO_CMD', 'MIPCL_CMD', 'SCIP_CMD']\n",
      "['GLPK_CMD', 'COIN_CMD']\n"
     ]
    }
   ],
   "source": [
    "print(listSolvers())\n",
    "print(listSolvers(onlyAvailable = True))"
   ]
  },
  {
   "cell_type": "code",
   "execution_count": 29,
   "id": "f226cb69-c729-46a9-9a16-2193a6340b01",
   "metadata": {},
   "outputs": [],
   "source": [
    "# define variables\n",
    "NewarkBoston = LpVariable(\"NewarkBoston\", 0, None)\n",
    "# JacksonvilleBoston isn't a valid route according to the diagram with arc weights\n",
    "NewarkColumbus = LpVariable(\"NewarkColumbus\", 0, None)\n",
    "JacksonvilleColumbus = LpVariable(\"JacksonvilleColumbus\", 0, None)\n",
    "NewarkAtlanta = LpVariable(\"NewarkAtlanta\", 0, None)\n",
    "JacksonvilleAtlanta = LpVariable(\"JacksonvilleAtlanta\", 0, None)\n",
    "NewarkRichmond = LpVariable(\"NewarkRichmond\", 0, None)\n",
    "JacksonvilleRichmond = LpVariable(\"JacksonvilleRichmond\", 0, None)\n",
    "NewarkMobile = LpVariable(\"NewarkMobile\", 0, None)\n",
    "JacksonvilleMobile = LpVariable(\"JacksonvilleMobile\", 0, None)"
   ]
  },
  {
   "cell_type": "code",
   "execution_count": 30,
   "id": "7d5718ad-f4bd-4813-88d7-4617c42a4591",
   "metadata": {},
   "outputs": [],
   "source": [
    "# defines the problem\n",
    "prob = LpProblem(\"problem\", LpMaximize)"
   ]
  },
  {
   "cell_type": "code",
   "execution_count": 31,
   "id": "15a8faf5-7a2f-4c43-9fb4-ae3b56efde2f",
   "metadata": {},
   "outputs": [],
   "source": [
    "# define constraints\n",
    "prob += NewarkBoston + NewarkColumbus + NewarkAtlanta + NewarkRichmond + NewarkMobile <= 200\n",
    "prob += JacksonvilleColumbus + JacksonvilleAtlanta + JacksonvilleRichmond + JacksonvilleMobile <= 300\n",
    "prob += NewarkBoston == 100\n",
    "prob += NewarkColumbus + JacksonvilleColumbus == 60\n",
    "prob += NewarkAtlanta + JacksonvilleAtlanta == 170\n",
    "prob += NewarkRichmond + JacksonvilleRichmond == 80\n",
    "prob += NewarkMobile + JacksonvilleMobile == 70"
   ]
  },
  {
   "cell_type": "code",
   "execution_count": 32,
   "id": "17e9b360-a6c3-4616-aec4-923ec022595c",
   "metadata": {},
   "outputs": [],
   "source": [
    "# define objective function\n",
    "prob += 30*NewarkBoston+80*NewarkColumbus+115*NewarkAtlanta+40*NewarkRichmond+150*NewarkMobile+85*JacksonvilleColumbus+45*JacksonvilleAtlanta+50*JacksonvilleRichmond+50*JacksonvilleMobile"
   ]
  },
  {
   "cell_type": "code",
   "execution_count": 38,
   "id": "3ca41115-6fdd-4258-92c0-f04ceb334a42",
   "metadata": {},
   "outputs": [
    {
     "name": "stdout",
     "output_type": "stream",
     "text": [
      "Status: Optimal\n"
     ]
    }
   ],
   "source": [
    "# solve the problem\n",
    "prob.writeLP(\"prob.lp\")\n",
    "prob.solve(GLPK(options=['--ranges', 'prob.sen']))\n",
    "print (\"Status:\", LpStatus[prob.status])"
   ]
  },
  {
   "cell_type": "code",
   "execution_count": 39,
   "id": "d4fa3cbb-f183-4771-b39f-9d7329b61832",
   "metadata": {},
   "outputs": [
    {
     "name": "stdout",
     "output_type": "stream",
     "text": [
      "JacksonvilleAtlanta = 140.0\n",
      "JacksonvilleColumbus = 60.0\n",
      "JacksonvilleMobile = 0.0\n",
      "JacksonvilleRichmond = 80.0\n",
      "NewarkAtlanta = 30.0\n",
      "NewarkBoston = 100.0\n",
      "NewarkColumbus = 0.0\n",
      "NewarkMobile = 70.0\n",
      "NewarkRichmond = 0.0\n",
      "Objective 32350.0\n",
      "\n"
     ]
    }
   ],
   "source": [
    "# Sensitivity analysis\n",
    "for v in prob.variables():\n",
    "    print(v.name, \"=\", v.varValue)\n",
    "\n",
    "print (\"Objective\", value(prob.objective))\n",
    "print (\"\")"
   ]
  },
  {
   "cell_type": "code",
   "execution_count": 11,
   "id": "242cdc1f-3ede-4489-914b-fdd754424d01",
   "metadata": {},
   "outputs": [
    {
     "name": "stderr",
     "output_type": "stream",
     "text": [
      "ssssssssssssssssssssssssssssssssssssssssssssssssssssssssssssssssssssssssssssssssssssssssssssssssssssssssssssssss..............."
     ]
    },
    {
     "name": "stdout",
     "output_type": "stream",
     "text": [
      "\t Test that logic put in place for deprecation handling of indexs works\n",
      "\t Testing 'indexs' param continues to work for LpVariable.dicts\n",
      "\t Testing 'indexs' param continues to work for LpVariable.matrix\n",
      "\t Testing 'indices' argument works in LpVariable.dicts\n",
      "\t Testing 'indices' param continues to work for LpVariable.matrix\n",
      "\t Testing invalid status\n",
      "\t Testing continuous LP solution - export dict\n",
      "\t Testing export dict for LP\n",
      "\t Testing export dict MIP\n",
      "\t Testing maximize continuous LP solution\n",
      "\t Testing continuous LP solution - export JSON\n",
      "\t Testing continuous LP solution - export solver dict\n",
      "\t Testing continuous LP solution - export solver JSON\n",
      "\t Testing reading MPS files - binary variable, no constraint names\n",
      "\t Testing reading MPS files - integer variable\n",
      "\t Testing reading MPS files - maximize\n"
     ]
    },
    {
     "name": "stderr",
     "output_type": "stream",
     "text": [
      "....."
     ]
    },
    {
     "name": "stdout",
     "output_type": "stream",
     "text": [
      "\t Testing invalid var names\n",
      "\t Testing logPath argument\n",
      "\t Testing makeDict general behavior\n",
      "\t Testing makeDict default value behavior\n",
      "\t Testing measuring optimization time\n"
     ]
    },
    {
     "name": "stderr",
     "output_type": "stream",
     "text": [
      "................"
     ]
    },
    {
     "name": "stdout",
     "output_type": "stream",
     "text": [
      "\t Testing the availability of the function pulpTestAll\n",
      "\t Testing zero subtraction\n",
      "\t Testing inconsistent lp solution\n",
      "\t Testing continuous LP solution\n",
      "\t Testing maximize continuous LP solution\n",
      "\t Testing unbounded continuous LP solution\n",
      "\t Testing Long Names\n",
      "\t Testing repeated Names\n",
      "\t Testing zero constraint\n",
      "\t Testing zero objective\n",
      "\t Testing LpVariable (not LpAffineExpression) objective\n",
      "\t Testing Long lines in LP\n",
      "\t Testing LpAffineExpression divide\n",
      "\t Testing MIP solution\n",
      "\t Testing MIP solution with floats in objective\n",
      "\t Testing Initial value in MIP solution\n"
     ]
    },
    {
     "name": "stderr",
     "output_type": "stream",
     "text": [
      "................."
     ]
    },
    {
     "name": "stdout",
     "output_type": "stream",
     "text": [
      "\t Testing fixing value in MIP solution\n",
      "\t Testing MIP relaxation\n",
      "\t Testing feasibility problem (no objective)\n",
      "\t Testing an infeasible problem\n",
      "\t Testing an integer infeasible problem\n",
      "\t Testing another integer infeasible problem\n",
      "\t Testing column based modelling\n",
      "\t Testing fractional constraints\n",
      "\t Testing elastic constraints (no change)\n",
      "\t Testing elastic constraints (freebound)\n",
      "\t Testing elastic constraints (penalty unchanged)\n",
      "\t Testing elastic constraints (penalty unbounded)\n",
      "\t Testing timeLimit argument\n"
     ]
    },
    {
     "name": "stderr",
     "output_type": "stream",
     "text": [
      "...ssssssssssssssssssssssssssssssssssssssssssssssssssssssssssssssssssssssssssssssssssssssssssssssssssssssssssssssss........................................"
     ]
    },
    {
     "name": "stdout",
     "output_type": "stream",
     "text": [
      "\t Test that logic put in place for deprecation handling of indexs works\n",
      "\t Testing 'indexs' param continues to work for LpVariable.dicts\n",
      "\t Testing 'indexs' param continues to work for LpVariable.matrix\n",
      "\t Testing 'indices' argument works in LpVariable.dicts\n",
      "\t Testing 'indices' param continues to work for LpVariable.matrix\n",
      "\t Testing invalid status\n",
      "\t Testing continuous LP solution - export dict\n",
      "\t Testing export dict for LP\n",
      "\t Testing export dict MIP\n",
      "\t Testing maximize continuous LP solution\n",
      "\t Testing continuous LP solution - export JSON\n",
      "\t Testing continuous LP solution - export solver dict\n",
      "\t Testing continuous LP solution - export solver JSON\n",
      "\t Testing reading MPS files - binary variable, no constraint names\n",
      "\t Testing reading MPS files - integer variable\n",
      "\t Testing reading MPS files - maximize\n",
      "\t Testing invalid var names\n",
      "\t Testing makeDict general behavior\n",
      "\t Testing makeDict default value behavior\n",
      "\t Testing measuring optimization time\n",
      "\t Testing the availability of the function pulpTestAll\n",
      "\t Testing zero subtraction\n",
      "\t Testing inconsistent lp solution\n",
      "\t Testing continuous LP solution\n",
      "\t Testing maximize continuous LP solution\n",
      "\t Testing unbounded continuous LP solution\n",
      "\t Testing Long Names\n",
      "\t Testing repeated Names\n",
      "\t Testing zero constraint\n",
      "\t Testing zero objective\n",
      "\t Testing LpVariable (not LpAffineExpression) objective\n",
      "\t Testing LpAffineExpression divide\n",
      "\t Testing MIP solution\n",
      "\t Testing MIP solution with floats in objective\n",
      "\t Testing Initial value in MIP solution\n",
      "\t Testing fixing value in MIP solution\n",
      "\t Testing MIP relaxation\n",
      "\t Testing feasibility problem (no objective)\n",
      "\t Testing an infeasible problem\n"
     ]
    },
    {
     "name": "stderr",
     "output_type": "stream",
     "text": [
      "................ssssssssssssssssssssssssssssssssssssssssssssssssssssssssss"
     ]
    },
    {
     "name": "stdout",
     "output_type": "stream",
     "text": [
      "\t Testing an integer infeasible problem\n",
      "\t Testing another integer infeasible problem\n",
      "\t Testing column based modelling\n",
      "\t Testing fractional constraints\n",
      "\t Testing elastic constraints (no change)\n",
      "\t Testing elastic constraints (freebound)\n",
      "\t Testing elastic constraints (penalty unchanged)\n",
      "\t Testing elastic constraints (penalty unbounded)\n",
      "\t Testing timeLimit argument\n"
     ]
    },
    {
     "name": "stderr",
     "output_type": "stream",
     "text": [
      "ssssssssssssssssssssssssssssssssssssssssssssssssssssssssssssssssssssssssssssssssssssssssssssssssssssssssssssssssssssssssssssssssssssssssssssssssssssssssssssssssssssssssssssssssssssssssssssssssssssssssssssssssssssssssssssssssssssssssssssssssssssssssssssssssssssssssssssssssssssssssssssssssssssssssssssssssssssssssssssssssssssssssssssssssssssssssssssssssssssssssssssssssssssssssssssssssssssssssssssssssssssssssssssssssssssssssssssssssssssssssssssss\n",
      "----------------------------------------------------------------------\n",
      "Ran 840 tests in 26.975s\n",
      "\n",
      "OK (skipped=728)\n"
     ]
    }
   ],
   "source": [
    "pulpTestAll()"
   ]
  },
  {
   "cell_type": "code",
   "execution_count": null,
   "id": "f231d489-27e0-4889-99d8-bb2e754dc68c",
   "metadata": {},
   "outputs": [],
   "source": []
  }
 ],
 "metadata": {
  "kernelspec": {
   "display_name": "Python 3",
   "language": "python",
   "name": "python3"
  },
  "language_info": {
   "codemirror_mode": {
    "name": "ipython",
    "version": 3
   },
   "file_extension": ".py",
   "mimetype": "text/x-python",
   "name": "python",
   "nbconvert_exporter": "python",
   "pygments_lexer": "ipython3",
   "version": "3.9.5"
  }
 },
 "nbformat": 4,
 "nbformat_minor": 5
}
