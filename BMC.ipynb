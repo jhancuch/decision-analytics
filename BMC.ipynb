{
 "cells": [
  {
   "cell_type": "markdown",
   "id": "da9e4702-56b5-499f-8a1a-b2ea4ada987b",
   "metadata": {},
   "source": [
    "The Bavarian Motor Company (BMC) manufactures expensive luxury cars in Hamburg, Germany, and exports cars to sell in the United States. The exported cars are shipped from Hamburg to ports in Newark, New Jersey and Jacksonville, Florida. From these ports, the cars are transported by rail or truck to distributors located in Boston, Massachusetts; Columbus, Ohio; Atlanta, Georgia; Richmond, Virginia; and Mobile, Alabama. The below figure shows the possible shipping routes available to the company along with the transportation cost for shipping each car along the indicated path. Currently, 200 cars are available at the port in Newark and 300 are available in Jacksonville. The numbers of cars needed by the distributors in Boston, Columbus, Atlanta, Richmond, and Mobile are 100, 60, 170, 80, and 70, respectively. BMC wants to determine the least costly way of transporting cars from the ports in Newark and Jacksonville to the cities where they are needed.  Formulate the LP and solve it using software of your choice. Conduct sensitivity analysis and interpret.  Provide the duals and demonstrate strong duality (i.e., complementary slackness)."
   ]
  },
  {
   "cell_type": "code",
   "execution_count": 48,
   "id": "7308eb79-9f9a-4adf-8225-88a6836f4d1d",
   "metadata": {},
   "outputs": [],
   "source": [
    "from pulp import LpVariable, LpProblem, LpMaximize, LpStatus, value, LpMinimize, GLPK\n",
    "from pulp import pulpTestAll, listSolvers"
   ]
  },
  {
   "cell_type": "code",
   "execution_count": 49,
   "id": "bd60204b-3273-4e67-858a-7261e756f779",
   "metadata": {},
   "outputs": [
    {
     "name": "stdout",
     "output_type": "stream",
     "text": [
      "['GLPK_CMD', 'PYGLPK', 'CPLEX_CMD', 'CPLEX_PY', 'GUROBI', 'GUROBI_CMD', 'MOSEK', 'XPRESS', 'PULP_CBC_CMD', 'COIN_CMD', 'COINMP_DLL', 'CHOCO_CMD', 'MIPCL_CMD', 'SCIP_CMD']\n",
      "['GLPK_CMD', 'COIN_CMD']\n"
     ]
    }
   ],
   "source": [
    "print(listSolvers())\n",
    "print(listSolvers(onlyAvailable = True))"
   ]
  },
  {
   "cell_type": "code",
   "execution_count": 50,
   "id": "f226cb69-c729-46a9-9a16-2193a6340b01",
   "metadata": {},
   "outputs": [],
   "source": [
    "# define variables\n",
    "NewarkBoston = LpVariable(\"NewarkBoston\", 0, None)\n",
    "# JacksonvilleBoston isn't a valid route according to the diagram with arc weights\n",
    "NewarkColumbus = LpVariable(\"NewarkColumbus\", 0, None)\n",
    "JacksonvilleColumbus = LpVariable(\"JacksonvilleColumbus\", 0, None)\n",
    "NewarkAtlanta = LpVariable(\"NewarkAtlanta\", 0, None)\n",
    "JacksonvilleAtlanta = LpVariable(\"JacksonvilleAtlanta\", 0, None)\n",
    "NewarkRichmond = LpVariable(\"NewarkRichmond\", 0, None)\n",
    "JacksonvilleRichmond = LpVariable(\"JacksonvilleRichmond\", 0, None)\n",
    "NewarkMobile = LpVariable(\"NewarkMobile\", 0, None)\n",
    "JacksonvilleMobile = LpVariable(\"JacksonvilleMobile\", 0, None)"
   ]
  },
  {
   "cell_type": "code",
   "execution_count": 51,
   "id": "7d5718ad-f4bd-4813-88d7-4617c42a4591",
   "metadata": {},
   "outputs": [],
   "source": [
    "# defines the problem\n",
    "prob = LpProblem(\"problem\", LpMinimize)"
   ]
  },
  {
   "cell_type": "code",
   "execution_count": 52,
   "id": "15a8faf5-7a2f-4c43-9fb4-ae3b56efde2f",
   "metadata": {},
   "outputs": [],
   "source": [
    "# define constraints\n",
    "prob += NewarkBoston + NewarkColumbus + NewarkAtlanta + NewarkRichmond + NewarkMobile <= 200\n",
    "prob += JacksonvilleColumbus + JacksonvilleAtlanta + JacksonvilleRichmond + JacksonvilleMobile <= 300\n",
    "prob += NewarkBoston == 100\n",
    "prob += NewarkColumbus + JacksonvilleColumbus == 60\n",
    "prob += NewarkAtlanta + JacksonvilleAtlanta == 170\n",
    "prob += NewarkRichmond + JacksonvilleRichmond == 80\n",
    "prob += NewarkMobile + JacksonvilleMobile == 70"
   ]
  },
  {
   "cell_type": "code",
   "execution_count": 53,
   "id": "17e9b360-a6c3-4616-aec4-923ec022595c",
   "metadata": {},
   "outputs": [],
   "source": [
    "# define objective function\n",
    "prob += 30*NewarkBoston+80*NewarkColumbus+115*NewarkAtlanta+40*NewarkRichmond+150*NewarkMobile+85*JacksonvilleColumbus+45*JacksonvilleAtlanta+50*JacksonvilleRichmond+50*JacksonvilleMobile"
   ]
  },
  {
   "cell_type": "code",
   "execution_count": 54,
   "id": "3ca41115-6fdd-4258-92c0-f04ceb334a42",
   "metadata": {},
   "outputs": [
    {
     "name": "stdout",
     "output_type": "stream",
     "text": [
      "Status: Optimal\n"
     ]
    }
   ],
   "source": [
    "# solve the problem\n",
    "prob.writeLP(\"BMC.lp\")\n",
    "prob.solve(GLPK(options=['--ranges', 'BMC.sen']))\n",
    "print (\"Status:\", LpStatus[prob.status])"
   ]
  },
  {
   "cell_type": "code",
   "execution_count": 55,
   "id": "d4fa3cbb-f183-4771-b39f-9d7329b61832",
   "metadata": {},
   "outputs": [
    {
     "name": "stdout",
     "output_type": "stream",
     "text": [
      "JacksonvilleAtlanta = 170.0\n",
      "JacksonvilleColumbus = 40.0\n",
      "JacksonvilleMobile = 70.0\n",
      "JacksonvilleRichmond = 0.0\n",
      "NewarkAtlanta = 0.0\n",
      "NewarkBoston = 100.0\n",
      "NewarkColumbus = 20.0\n",
      "NewarkMobile = 0.0\n",
      "NewarkRichmond = 80.0\n",
      "Objective 22350.0\n",
      "\n"
     ]
    }
   ],
   "source": [
    "# Sensitivity analysis\n",
    "for v in prob.variables():\n",
    "    print(v.name, \"=\", v.varValue)\n",
    "\n",
    "print (\"Objective\", value(prob.objective))\n",
    "print (\"\")"
   ]
  },
  {
   "cell_type": "code",
   "execution_count": null,
   "id": "f231d489-27e0-4889-99d8-bb2e754dc68c",
   "metadata": {},
   "outputs": [],
   "source": []
  }
 ],
 "metadata": {
  "kernelspec": {
   "display_name": "Python 3",
   "language": "python",
   "name": "python3"
  },
  "language_info": {
   "codemirror_mode": {
    "name": "ipython",
    "version": 3
   },
   "file_extension": ".py",
   "mimetype": "text/x-python",
   "name": "python",
   "nbconvert_exporter": "python",
   "pygments_lexer": "ipython3",
   "version": "3.9.5"
  }
 },
 "nbformat": 4,
 "nbformat_minor": 5
}
