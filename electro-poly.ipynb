{
 "cells": [
  {
   "cell_type": "markdown",
   "id": "7a7864c8-9270-4f78-8430-9e31d17be3eb",
   "metadata": {},
   "source": [
    "Problem:\n",
    "\n",
    "Electro-Poly is a leading maker of slip-rings. A $750,000 order has just been received and must be filled.  Constraints in filling the order are based on hours for wiring each unit and hours for harnessing each unit. \n",
    "\n",
    "The company has 10,000 hours of wiring capacity and 5,000 hours of harnessing capacity. It must either make or buy the various models to meet the demand.  Formulate this LP and solve using R, Python, GAMS, Go, or Excel.  Provide your complete code and share with your colleagues.\n",
    "\n",
    "|    | Model 1 | Model 2 | Model 3 |\n",
    "|--- | ---     | ---     | ---     |\n",
    "| Ordered | 3000 | 2000 | 900 |\n",
    "| Hours for Wiring / Unit | 2 | 1.5 | 3 |\n",
    "| Hours of Harnessing / Unit | 1 | 2 | 1 |\n",
    "| Cost to Make | 50 | 83 | 130 |\n",
    "| Cost to Buy | 61 | 97 | 145 |"
   ]
  },
  {
   "cell_type": "markdown",
   "id": "bf43a6e7-e0c4-4944-84ab-8664663b2577",
   "metadata": {},
   "source": [
    "The goal is to minimize the total cost of producing or buying the products to fullfill the order"
   ]
  },
  {
   "cell_type": "code",
   "execution_count": null,
   "id": "422aac1f-8986-4012-948b-63bc4032b6bd",
   "metadata": {},
   "outputs": [],
   "source": [
    "from pulp import LpVariable, LpProblem, LpStatus, value, LpMinimize"
   ]
  },
  {
   "cell_type": "code",
   "execution_count": null,
   "id": "18476ad1-9a20-4b4f-a6d9-98e2b1271074",
   "metadata": {},
   "outputs": [],
   "source": [
    "# define variables\n",
    "M1 = LpVariable(\"M1\", 0, None) # number of non-negative M1's needed\n",
    "M2 = LpVariable(\"M2\", 0, None) # number of non-negative M2's needed\n",
    "M3 = LpVariable(\"M3\", 0, None) # number of non-negative M3's needed"
   ]
  },
  {
   "cell_type": "code",
   "execution_count": null,
   "id": "d45473b2-8f99-454a-8fb8-64fb96719e94",
   "metadata": {},
   "outputs": [],
   "source": [
    "# define the problem\n",
    "problem = LpProblem(\"problem\", LpMinimize)"
   ]
  },
  {
   "cell_type": "code",
   "execution_count": null,
   "id": "2da6dbf4-a85c-445a-b505-050cbc1c3232",
   "metadata": {},
   "outputs": [],
   "source": [
    "# define the functional constraints\n",
    "problem += 1*MD + 1*NP + 1*PA >= 10\n",
    "problem += 1*NP >= 1.5*PA\n",
    "problem += 1*NP + 1*PA <= 2*MD"
   ]
  },
  {
   "cell_type": "code",
   "execution_count": null,
   "id": "9b3abc68-c5c4-4cfa-857b-1dd610402a51",
   "metadata": {},
   "outputs": [],
   "source": [
    "# define the objective function\n",
    "problem += 150*MD + 110*NP + 100*PA"
   ]
  }
 ],
 "metadata": {
  "kernelspec": {
   "display_name": "Python 3",
   "language": "python",
   "name": "python3"
  },
  "language_info": {
   "codemirror_mode": {
    "name": "ipython",
    "version": 3
   },
   "file_extension": ".py",
   "mimetype": "text/x-python",
   "name": "python",
   "nbconvert_exporter": "python",
   "pygments_lexer": "ipython3",
   "version": "3.9.5"
  }
 },
 "nbformat": 4,
 "nbformat_minor": 5
}
